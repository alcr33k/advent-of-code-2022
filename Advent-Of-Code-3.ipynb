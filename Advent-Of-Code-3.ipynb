{
 "cells": [
  {
   "cell_type": "code",
   "execution_count": 401,
   "id": "14c9d431-d89a-4e01-aef3-7981a7d76055",
   "metadata": {},
   "outputs": [],
   "source": [
    "import pandas as pd\n",
    "import numpy as np"
   ]
  },
  {
   "cell_type": "code",
   "execution_count": 402,
   "id": "9d299664-c9f0-4c80-b4a8-561b917f6a2b",
   "metadata": {},
   "outputs": [],
   "source": [
    "df = pd.read_csv('data/day3.txt', names=['rucksack'], dtype='str')"
   ]
  },
  {
   "cell_type": "code",
   "execution_count": 403,
   "id": "a08fcaa2-3848-4df4-96d3-0713e92e527c",
   "metadata": {},
   "outputs": [],
   "source": [
    "def getCommonLetter(letters):\n",
    "    part1, part2 = letters[:len(letters)//2], letters[len(letters)//2:]\n",
    "    return ''.join(set(part1).intersection(part2))"
   ]
  },
  {
   "cell_type": "code",
   "execution_count": 404,
   "id": "5c4bc2d9-a0f4-41c9-b788-5d1b915d503a",
   "metadata": {},
   "outputs": [],
   "source": [
    "def getLetterScore(letter):\n",
    "    if letter.isupper():\n",
    "        return  ord(letter) - 38\n",
    "    else:\n",
    "        return  ord(letter.upper()) - 64"
   ]
  },
  {
   "cell_type": "code",
   "execution_count": 405,
   "id": "cf3b2886-b681-4c80-bfb4-6787a23be4ad",
   "metadata": {},
   "outputs": [],
   "source": [
    "df['common_letter'] = df['rucksack'].apply(lambda x: getCommonLetter(x))"
   ]
  },
  {
   "cell_type": "code",
   "execution_count": 406,
   "id": "1d9dd235-a2e0-4669-a07a-a328ebbb0eaf",
   "metadata": {},
   "outputs": [],
   "source": [
    "df['score'] = df['common_letter'].apply(lambda x: getLetterScore(x))"
   ]
  },
  {
   "cell_type": "code",
   "execution_count": 407,
   "id": "293554b3-4b5f-4ea9-9bb4-4543b05886cd",
   "metadata": {},
   "outputs": [
    {
     "data": {
      "text/plain": [
       "7737"
      ]
     },
     "execution_count": 407,
     "metadata": {},
     "output_type": "execute_result"
    }
   ],
   "source": [
    "df['score'].sum()"
   ]
  },
  {
   "cell_type": "code",
   "execution_count": 408,
   "id": "7dcf89ff-ef43-4dea-9c13-9e66e531fed6",
   "metadata": {},
   "outputs": [
    {
     "data": {
      "text/html": [
       "<div>\n",
       "<style scoped>\n",
       "    .dataframe tbody tr th:only-of-type {\n",
       "        vertical-align: middle;\n",
       "    }\n",
       "\n",
       "    .dataframe tbody tr th {\n",
       "        vertical-align: top;\n",
       "    }\n",
       "\n",
       "    .dataframe thead th {\n",
       "        text-align: right;\n",
       "    }\n",
       "</style>\n",
       "<table border=\"1\" class=\"dataframe\">\n",
       "  <thead>\n",
       "    <tr style=\"text-align: right;\">\n",
       "      <th></th>\n",
       "      <th>rucksack</th>\n",
       "      <th>common_letter</th>\n",
       "      <th>score</th>\n",
       "    </tr>\n",
       "  </thead>\n",
       "  <tbody>\n",
       "    <tr>\n",
       "      <th>0</th>\n",
       "      <td>rZTmmqbBrmBvSTCwDDtlwjqnqnnq</td>\n",
       "      <td>q</td>\n",
       "      <td>17</td>\n",
       "    </tr>\n",
       "    <tr>\n",
       "      <th>1</th>\n",
       "      <td>dhgQHhPfVgPlPdFzFzFgdptCQjtnwCntjsCppRtRND</td>\n",
       "      <td>Q</td>\n",
       "      <td>43</td>\n",
       "    </tr>\n",
       "    <tr>\n",
       "      <th>2</th>\n",
       "      <td>lVdVHWGPvTvmrrBW</td>\n",
       "      <td>W</td>\n",
       "      <td>49</td>\n",
       "    </tr>\n",
       "    <tr>\n",
       "      <th>3</th>\n",
       "      <td>GmJBqwPLhfPBfJfvfffFmwtjDprpzVpVMpcDrVjzzcjpML</td>\n",
       "      <td>L</td>\n",
       "      <td>38</td>\n",
       "    </tr>\n",
       "    <tr>\n",
       "      <th>4</th>\n",
       "      <td>HgWnRnWggWbNTWbCnPCgCnsjcVDrjMrdzjprMMrzcHDrDr</td>\n",
       "      <td>H</td>\n",
       "      <td>34</td>\n",
       "    </tr>\n",
       "    <tr>\n",
       "      <th>...</th>\n",
       "      <td>...</td>\n",
       "      <td>...</td>\n",
       "      <td>...</td>\n",
       "    </tr>\n",
       "    <tr>\n",
       "      <th>295</th>\n",
       "      <td>SppWLbtbCzZMpHMZ</td>\n",
       "      <td>p</td>\n",
       "      <td>16</td>\n",
       "    </tr>\n",
       "    <tr>\n",
       "      <th>296</th>\n",
       "      <td>dSDbbJdVVlHFNlll</td>\n",
       "      <td>V</td>\n",
       "      <td>48</td>\n",
       "    </tr>\n",
       "    <tr>\n",
       "      <th>297</th>\n",
       "      <td>dtZdGmqqtmzhtqZtZswzSnSjfNHNVjzCWCnCffHz</td>\n",
       "      <td>z</td>\n",
       "      <td>26</td>\n",
       "    </tr>\n",
       "    <tr>\n",
       "      <th>298</th>\n",
       "      <td>LgpMFMvlhvRMhhDDlvvQLFJCfSCHnFVJnSnJHNjSnj</td>\n",
       "      <td>F</td>\n",
       "      <td>32</td>\n",
       "    </tr>\n",
       "    <tr>\n",
       "      <th>299</th>\n",
       "      <td>rRBLcQcpQcrZbwsZshbs</td>\n",
       "      <td>r</td>\n",
       "      <td>18</td>\n",
       "    </tr>\n",
       "  </tbody>\n",
       "</table>\n",
       "<p>300 rows × 3 columns</p>\n",
       "</div>"
      ],
      "text/plain": [
       "                                           rucksack common_letter  score\n",
       "0                      rZTmmqbBrmBvSTCwDDtlwjqnqnnq             q     17\n",
       "1        dhgQHhPfVgPlPdFzFzFgdptCQjtnwCntjsCppRtRND             Q     43\n",
       "2                                  lVdVHWGPvTvmrrBW             W     49\n",
       "3    GmJBqwPLhfPBfJfvfffFmwtjDprpzVpVMpcDrVjzzcjpML             L     38\n",
       "4    HgWnRnWggWbNTWbCnPCgCnsjcVDrjMrdzjprMMrzcHDrDr             H     34\n",
       "..                                              ...           ...    ...\n",
       "295                                SppWLbtbCzZMpHMZ             p     16\n",
       "296                                dSDbbJdVVlHFNlll             V     48\n",
       "297        dtZdGmqqtmzhtqZtZswzSnSjfNHNVjzCWCnCffHz             z     26\n",
       "298      LgpMFMvlhvRMhhDDlvvQLFJCfSCHnFVJnSnJHNjSnj             F     32\n",
       "299                            rRBLcQcpQcrZbwsZshbs             r     18\n",
       "\n",
       "[300 rows x 3 columns]"
      ]
     },
     "execution_count": 408,
     "metadata": {},
     "output_type": "execute_result"
    }
   ],
   "source": [
    "df"
   ]
  },
  {
   "cell_type": "code",
   "execution_count": 457,
   "id": "dac2fa2a-16d5-4fad-b8ea-a3a36cbc9ce3",
   "metadata": {},
   "outputs": [],
   "source": [
    "# part 2"
   ]
  },
  {
   "cell_type": "code",
   "execution_count": 463,
   "id": "fe4deb65-f5b7-4e21-a6dd-ff637144569c",
   "metadata": {},
   "outputs": [],
   "source": [
    "df2 = pd.read_csv('data/day3.txt', names=['rucksack'], dtype='str')"
   ]
  },
  {
   "cell_type": "code",
   "execution_count": 464,
   "id": "63c482f8-e699-4692-90f4-024163c7a4e7",
   "metadata": {},
   "outputs": [],
   "source": [
    "df2['next_value'], df2['next_value2'] = df2['rucksack'].shift(-1), df2['rucksack'].shift(-2)"
   ]
  },
  {
   "cell_type": "code",
   "execution_count": 465,
   "id": "f0eb27b5-5512-4c30-be58-d2ba8fe890d2",
   "metadata": {},
   "outputs": [],
   "source": [
    "df2 = df2.iloc[::3, :]"
   ]
  },
  {
   "cell_type": "code",
   "execution_count": 466,
   "id": "4186ad4c-af1f-4a15-8795-4241b08a6e31",
   "metadata": {},
   "outputs": [],
   "source": [
    "common_letters = []\n",
    "for row in df2.itertuples():\n",
    "    letter = ''.join(set(row.rucksack).intersection(row.next_value).intersection(row.next_value2))\n",
    "    common_letters.append(letter) # can not add directly for some reason, so add to array"
   ]
  },
  {
   "cell_type": "code",
   "execution_count": 467,
   "id": "9645951f-7e68-4b53-a40b-db99f7d7d934",
   "metadata": {},
   "outputs": [],
   "source": [
    "df2['common_letter_2'] = common_letters"
   ]
  },
  {
   "cell_type": "code",
   "execution_count": 468,
   "id": "6867f061-2cf0-4a73-8727-d7cdeaf93327",
   "metadata": {},
   "outputs": [],
   "source": [
    "df2['score'] = df2['common_letter_2'].apply(lambda x: getLetterScore(x))"
   ]
  },
  {
   "cell_type": "code",
   "execution_count": 469,
   "id": "1f0425a8-ca75-4128-a0f2-cebd85d641a6",
   "metadata": {},
   "outputs": [
    {
     "data": {
      "text/plain": [
       "2697"
      ]
     },
     "execution_count": 469,
     "metadata": {},
     "output_type": "execute_result"
    }
   ],
   "source": [
    "df2['score'].sum()"
   ]
  }
 ],
 "metadata": {
  "kernelspec": {
   "display_name": "Python 3 (ipykernel)",
   "language": "python",
   "name": "python3"
  },
  "language_info": {
   "codemirror_mode": {
    "name": "ipython",
    "version": 3
   },
   "file_extension": ".py",
   "mimetype": "text/x-python",
   "name": "python",
   "nbconvert_exporter": "python",
   "pygments_lexer": "ipython3",
   "version": "3.8.1"
  }
 },
 "nbformat": 4,
 "nbformat_minor": 5
}
