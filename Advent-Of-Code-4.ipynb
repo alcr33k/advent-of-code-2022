{
 "cells": [
  {
   "cell_type": "code",
   "execution_count": 301,
   "id": "d299eb5f-a184-4941-b37f-e8b0bec06cbe",
   "metadata": {},
   "outputs": [],
   "source": [
    "import pandas as pd\n",
    "import numpy as np"
   ]
  },
  {
   "cell_type": "code",
   "execution_count": 302,
   "id": "69b0cc8d-db73-4c43-8c4f-a7123176004e",
   "metadata": {},
   "outputs": [],
   "source": [
    "df = pd.read_csv('data/day4.txt', names=['elf_1_claim', 'elf_2_claim'], sep=',', dtype='str')"
   ]
  },
  {
   "cell_type": "code",
   "execution_count": 303,
   "id": "bacf2a5a-686d-404c-8f8c-927eae17499d",
   "metadata": {},
   "outputs": [],
   "source": [
    "common_intersect = []\n",
    "for row in df.itertuples():\n",
    "    interval1 = pd.Interval(int(row.elf_1_claim.split(\"-\", 1)[0]), int(row.elf_1_claim.split(\"-\", 1)[1]),closed='both')\n",
    "    interval2 = pd.Interval(int(row.elf_2_claim.split(\"-\", 1)[0]), int(row.elf_2_claim.split(\"-\", 1)[1]),closed='both')\n",
    "    res = np.where((((interval1.left in interval2) & (interval1.right in interval2)) | ((interval2.left in interval1) & (interval2.right in interval1))), 1, 0)\n",
    "    common_intersect.append(res)"
   ]
  },
  {
   "cell_type": "code",
   "execution_count": 304,
   "id": "f181731a-efc5-4fcd-9bf9-d8c3a30265b5",
   "metadata": {},
   "outputs": [],
   "source": [
    "df['common_intersect'] = common_intersect"
   ]
  },
  {
   "cell_type": "code",
   "execution_count": 305,
   "id": "075d54d7-a448-4593-aa39-3b920ee7e325",
   "metadata": {},
   "outputs": [
    {
     "data": {
      "text/plain": [
       "644"
      ]
     },
     "execution_count": 305,
     "metadata": {},
     "output_type": "execute_result"
    }
   ],
   "source": [
    "df['common_intersect'].sum()"
   ]
  },
  {
   "cell_type": "code",
   "execution_count": 306,
   "id": "85ed7429-7d04-4da3-9a88-91b1cce633a4",
   "metadata": {},
   "outputs": [],
   "source": [
    "# Part 2"
   ]
  },
  {
   "cell_type": "code",
   "execution_count": 307,
   "id": "c37d7772-3fc4-4903-833d-56f750167257",
   "metadata": {},
   "outputs": [],
   "source": [
    "any_intersect = []\n",
    "for row in df.itertuples():\n",
    "    interval1 = pd.Interval(int(row.elf_1_claim.split(\"-\", 1)[0]), int(row.elf_1_claim.split(\"-\", 1)[1]),closed='both')\n",
    "    interval2 = pd.Interval(int(row.elf_2_claim.split(\"-\", 1)[0]), int(row.elf_2_claim.split(\"-\", 1)[1]),closed='both')\n",
    "    res = np.where(interval1.overlaps(interval2), 1, 0)\n",
    "    any_intersect.append(res)"
   ]
  },
  {
   "cell_type": "code",
   "execution_count": 308,
   "id": "eccc7a47-23d9-49d8-92e6-9ed8ba80f618",
   "metadata": {},
   "outputs": [],
   "source": [
    "df['any_intersect'] = any_intersect"
   ]
  },
  {
   "cell_type": "code",
   "execution_count": 309,
   "id": "71d5a0ca-d95f-4a49-8fcf-dab45f9ff2ca",
   "metadata": {},
   "outputs": [
    {
     "data": {
      "text/plain": [
       "926"
      ]
     },
     "execution_count": 309,
     "metadata": {},
     "output_type": "execute_result"
    }
   ],
   "source": [
    "df['any_intersect'].sum()"
   ]
  }
 ],
 "metadata": {
  "kernelspec": {
   "display_name": "Python 3 (ipykernel)",
   "language": "python",
   "name": "python3"
  },
  "language_info": {
   "codemirror_mode": {
    "name": "ipython",
    "version": 3
   },
   "file_extension": ".py",
   "mimetype": "text/x-python",
   "name": "python",
   "nbconvert_exporter": "python",
   "pygments_lexer": "ipython3",
   "version": "3.8.1"
  }
 },
 "nbformat": 4,
 "nbformat_minor": 5
}
