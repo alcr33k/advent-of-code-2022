{
 "cells": [
  {
   "cell_type": "code",
   "execution_count": 120,
   "id": "87ceb2a3-c8c5-4341-8d0c-3f33404b7c66",
   "metadata": {},
   "outputs": [],
   "source": [
    "import pandas as pd\n",
    "import numpy as np"
   ]
  },
  {
   "cell_type": "code",
   "execution_count": 121,
   "id": "a1f288e7-3064-489d-b028-31e34d096b24",
   "metadata": {},
   "outputs": [],
   "source": [
    "df = pd.read_csv('data/day2.txt', names=['opp_move', 'my_move'], sep=' ', dtype='str') # Keep the blank lines as NaN"
   ]
  },
  {
   "cell_type": "code",
   "execution_count": 122,
   "id": "67f849fd-0d96-48f9-bcdb-4c18165f1fbd",
   "metadata": {},
   "outputs": [],
   "source": [
    "def calculateTotalPoints (df):\n",
    "    baseConditions = [\n",
    "        df['my_move'].eq('X'),\n",
    "        df['my_move'].eq('Y'),\n",
    "        df['my_move'].eq('Z')\n",
    "    ]\n",
    "    \n",
    "    matchConditions = [\n",
    "        (df['my_move'].eq('X') & df['opp_move'].eq('B')) | (df['my_move'].eq('Y') & df['opp_move'].eq('C')) | (df['my_move'].eq('Z') & df['opp_move'].eq('A')), # lose\n",
    "        (df['my_move'].eq('X') & df['opp_move'].eq('A')) | (df['my_move'].eq('Y') & df['opp_move'].eq('B')) | (df['my_move'].eq('Z') & df['opp_move'].eq('C')), # draw\n",
    "        (df['my_move'].eq('X') & df['opp_move'].eq('C')) | (df['my_move'].eq('Y') & df['opp_move'].eq('A')) | (df['my_move'].eq('Z') & df['opp_move'].eq('B')), # win\n",
    "    ]\n",
    "    \n",
    "    return np.select(baseConditions, [1,2,3]) + np.select(matchConditions, [0,3,6])"
   ]
  },
  {
   "cell_type": "code",
   "execution_count": 123,
   "id": "83adc092-34d2-494c-b683-4148a8bb1c68",
   "metadata": {},
   "outputs": [],
   "source": [
    "df['total_points'] = calculateTotalPoints(df)"
   ]
  },
  {
   "cell_type": "code",
   "execution_count": 124,
   "id": "7323f990-9654-4cd3-aa5f-cd4a62c98ca4",
   "metadata": {},
   "outputs": [
    {
     "data": {
      "text/plain": [
       "14163"
      ]
     },
     "execution_count": 124,
     "metadata": {},
     "output_type": "execute_result"
    }
   ],
   "source": [
    "df['total_points'].sum()"
   ]
  },
  {
   "cell_type": "code",
   "execution_count": 125,
   "id": "74f942b7-bc42-4726-b513-cbc427a1f838",
   "metadata": {},
   "outputs": [],
   "source": [
    "# Part 2"
   ]
  },
  {
   "cell_type": "code",
   "execution_count": 126,
   "id": "1172fbe4-70ba-4419-b10e-866da30ffb6b",
   "metadata": {},
   "outputs": [],
   "source": [
    "df1 = pd.read_csv('data/day2.txt', names=['opp_move', 'needed_result'], sep=' ', dtype='str') # Keep the blank lines as NaN"
   ]
  },
  {
   "cell_type": "code",
   "execution_count": 127,
   "id": "0719d882-f8bd-48bb-bee2-f0cbfd47ad2c",
   "metadata": {},
   "outputs": [],
   "source": [
    "move_to_play = [\n",
    "    (df1['needed_result'].eq('Z') & df1['opp_move'].eq('C')) | (df1['needed_result'].eq('X') & df1['opp_move'].eq('B')) | (df1['needed_result'].eq('Y') & df1['opp_move'].eq('A')), # play rock\n",
    "    (df1['needed_result'].eq('Z') & df1['opp_move'].eq('A')) | (df1['needed_result'].eq('X') & df1['opp_move'].eq('C')) | (df1['needed_result'].eq('Y') & df1['opp_move'].eq('B')), # play paper\n",
    "    (df1['needed_result'].eq('Z') & df1['opp_move'].eq('B')) | (df1['needed_result'].eq('X') & df1['opp_move'].eq('A')) | (df1['needed_result'].eq('Y') & df1['opp_move'].eq('C')), # play scissor\n",
    "]"
   ]
  },
  {
   "cell_type": "code",
   "execution_count": 128,
   "id": "fbb43e0a-aec6-47b0-ba10-5d20326e6cdd",
   "metadata": {},
   "outputs": [],
   "source": [
    "df1['my_move'] = np.select(move_to_play, ['X','Y','Z'])"
   ]
  },
  {
   "cell_type": "code",
   "execution_count": 129,
   "id": "c49dd2b3-dc5b-4f57-b043-5a463cceb848",
   "metadata": {},
   "outputs": [],
   "source": [
    "df1['total_points'] = calculateTotalPoints(df1)"
   ]
  },
  {
   "cell_type": "code",
   "execution_count": 130,
   "id": "bbe988d0-9dbb-496d-9515-4cc2d0f46680",
   "metadata": {},
   "outputs": [
    {
     "data": {
      "text/plain": [
       "12091"
      ]
     },
     "execution_count": 130,
     "metadata": {},
     "output_type": "execute_result"
    }
   ],
   "source": [
    "df1['total_points'].sum()"
   ]
  },
  {
   "cell_type": "code",
   "execution_count": null,
   "id": "0523f8b2-e5e7-49fa-a969-aae6c281353e",
   "metadata": {},
   "outputs": [],
   "source": []
  }
 ],
 "metadata": {
  "kernelspec": {
   "display_name": "Python 3 (ipykernel)",
   "language": "python",
   "name": "python3"
  },
  "language_info": {
   "codemirror_mode": {
    "name": "ipython",
    "version": 3
   },
   "file_extension": ".py",
   "mimetype": "text/x-python",
   "name": "python",
   "nbconvert_exporter": "python",
   "pygments_lexer": "ipython3",
   "version": "3.8.1"
  }
 },
 "nbformat": 4,
 "nbformat_minor": 5
}
